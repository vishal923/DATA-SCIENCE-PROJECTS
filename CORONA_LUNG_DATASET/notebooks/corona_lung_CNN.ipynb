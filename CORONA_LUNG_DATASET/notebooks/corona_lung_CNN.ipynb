{
 "cells": [
  {
   "cell_type": "code",
   "execution_count": 1,
   "id": "e5f774dc",
   "metadata": {},
   "outputs": [],
   "source": [
    "##### Standard Libraries #####\n",
    "import numpy as np\n",
    "import pandas as pd\n",
    "import matplotlib.pyplot as plt\n",
    "import seaborn as sns\n",
    "%matplotlib inline\n",
    "import os\n",
    "import sklearn.metrics\n",
    "import cv2\n",
    "\n",
    "from tensorflow.keras.models import Model\n",
    "from tensorflow.keras.applications.vgg19 import VGG19\n",
    "from tensorflow.keras.applications.resnet50 import preprocess_input\n",
    "from tensorflow.keras.preprocessing import image\n",
    "from tensorflow.keras.preprocessing.image import ImageDataGenerator,load_img\n",
    "from tensorflow.keras.models import Sequential\n",
    "import tensorflow as tf\n",
    "from glob import glob\n",
    "from tensorflow import keras\n",
    "from tensorflow.keras.layers import MaxPooling2D, Conv2D, Flatten, Dense, ZeroPadding2D\n",
    "from tensorflow.keras.models import Sequential\n",
    "from tensorflow.keras.layers import Dense, Conv2D, Flatten, Dropout, MaxPooling2D\n",
    "from tensorflow.keras.preprocessing.image import ImageDataGenerator\n",
    "from tensorflow.keras.callbacks import EarlyStopping\n"
   ]
  },
  {
   "cell_type": "code",
   "execution_count": 2,
   "id": "32cbbdb0",
   "metadata": {},
   "outputs": [],
   "source": [
    "def load_images_from_folder(folder):\n",
    "    images = []\n",
    "    for filename in os.listdir(folder):\n",
    "        img = cv2.imread(os.path.join(folder,filename))\n",
    "        if img is not None:\n",
    "            images.append(img)\n",
    "    return images"
   ]
  },
  {
   "cell_type": "code",
   "execution_count": 3,
   "id": "54dedbcc",
   "metadata": {},
   "outputs": [],
   "source": [
    "import glob\n",
    "imdir = \"C:/Users/visha/Desktop/DATA SCIENCE PROJECTS/CORONA_LUNG_DATASET/data/covid/\"\n",
    "ext = ['jpeg', 'jpg', 'png']    # Add image formats here\n",
    "\n",
    "files = []\n",
    "[files.extend(glob.glob(imdir + '*.' + e)) for e in ext]\n",
    "\n",
    "images = [cv2.imread(file) for file in files]"
   ]
  },
  {
   "cell_type": "code",
   "execution_count": 4,
   "id": "a0f8cc39",
   "metadata": {},
   "outputs": [
    {
     "data": {
      "text/plain": [
       "151"
      ]
     },
     "execution_count": 4,
     "metadata": {},
     "output_type": "execute_result"
    }
   ],
   "source": [
    "len(images)"
   ]
  },
  {
   "cell_type": "code",
   "execution_count": 5,
   "id": "28a2d921",
   "metadata": {},
   "outputs": [],
   "source": [
    "norm_images = [cv2.imread(file) for file in glob.glob('C:/Users/visha/Desktop/DATA SCIENCE PROJECTS/CORONA_LUNG_DATASET/data/normal/*.jpeg')]"
   ]
  },
  {
   "cell_type": "code",
   "execution_count": 6,
   "id": "23094468",
   "metadata": {},
   "outputs": [
    {
     "name": "stderr",
     "output_type": "stream",
     "text": [
      "C:\\Users\\visha\\anaconda3\\lib\\site-packages\\pandas\\core\\internals\\construction.py:540: VisibleDeprecationWarning: Creating an ndarray from ragged nested sequences (which is a list-or-tuple of lists-or-tuples-or ndarrays with different lengths or shapes) is deprecated. If you meant to do this, you must specify 'dtype=object' when creating the ndarray.\n",
      "  values = np.array([convert(v) for v in values])\n"
     ]
    }
   ],
   "source": [
    "norm=pd.DataFrame(norm_images,columns=[\"Images\"])"
   ]
  },
  {
   "cell_type": "code",
   "execution_count": 7,
   "id": "aabf17ff",
   "metadata": {},
   "outputs": [
    {
     "data": {
      "text/html": [
       "<div>\n",
       "<style scoped>\n",
       "    .dataframe tbody tr th:only-of-type {\n",
       "        vertical-align: middle;\n",
       "    }\n",
       "\n",
       "    .dataframe tbody tr th {\n",
       "        vertical-align: top;\n",
       "    }\n",
       "\n",
       "    .dataframe thead th {\n",
       "        text-align: right;\n",
       "    }\n",
       "</style>\n",
       "<table border=\"1\" class=\"dataframe\">\n",
       "  <thead>\n",
       "    <tr style=\"text-align: right;\">\n",
       "      <th></th>\n",
       "      <th>Images</th>\n",
       "    </tr>\n",
       "  </thead>\n",
       "  <tbody>\n",
       "    <tr>\n",
       "      <th>0</th>\n",
       "      <td>[[[72, 72, 72], [68, 68, 68], [67, 67, 67], [7...</td>\n",
       "    </tr>\n",
       "    <tr>\n",
       "      <th>1</th>\n",
       "      <td>[[[0, 0, 0], [46, 46, 46], [43, 43, 43], [42, ...</td>\n",
       "    </tr>\n",
       "    <tr>\n",
       "      <th>2</th>\n",
       "      <td>[[[80, 80, 80], [79, 79, 79], [77, 77, 77], [7...</td>\n",
       "    </tr>\n",
       "    <tr>\n",
       "      <th>3</th>\n",
       "      <td>[[[0, 0, 0], [0, 0, 0], [0, 0, 0], [0, 0, 0], ...</td>\n",
       "    </tr>\n",
       "    <tr>\n",
       "      <th>4</th>\n",
       "      <td>[[[78, 78, 78], [79, 79, 79], [77, 77, 77], [7...</td>\n",
       "    </tr>\n",
       "    <tr>\n",
       "      <th>...</th>\n",
       "      <td>...</td>\n",
       "    </tr>\n",
       "    <tr>\n",
       "      <th>146</th>\n",
       "      <td>[[[5, 5, 5], [2, 2, 2], [1, 1, 1], [4, 4, 4], ...</td>\n",
       "    </tr>\n",
       "    <tr>\n",
       "      <th>147</th>\n",
       "      <td>[[[6, 6, 6], [6, 6, 6], [6, 6, 6], [6, 6, 6], ...</td>\n",
       "    </tr>\n",
       "    <tr>\n",
       "      <th>148</th>\n",
       "      <td>[[[77, 77, 77], [81, 81, 81], [85, 85, 85], [8...</td>\n",
       "    </tr>\n",
       "    <tr>\n",
       "      <th>149</th>\n",
       "      <td>[[[43, 43, 43], [45, 45, 45], [46, 46, 46], [4...</td>\n",
       "    </tr>\n",
       "    <tr>\n",
       "      <th>150</th>\n",
       "      <td>[[[5, 5, 5], [5, 5, 5], [6, 6, 6], [7, 7, 7], ...</td>\n",
       "    </tr>\n",
       "  </tbody>\n",
       "</table>\n",
       "<p>151 rows × 1 columns</p>\n",
       "</div>"
      ],
      "text/plain": [
       "                                                Images\n",
       "0    [[[72, 72, 72], [68, 68, 68], [67, 67, 67], [7...\n",
       "1    [[[0, 0, 0], [46, 46, 46], [43, 43, 43], [42, ...\n",
       "2    [[[80, 80, 80], [79, 79, 79], [77, 77, 77], [7...\n",
       "3    [[[0, 0, 0], [0, 0, 0], [0, 0, 0], [0, 0, 0], ...\n",
       "4    [[[78, 78, 78], [79, 79, 79], [77, 77, 77], [7...\n",
       "..                                                 ...\n",
       "146  [[[5, 5, 5], [2, 2, 2], [1, 1, 1], [4, 4, 4], ...\n",
       "147  [[[6, 6, 6], [6, 6, 6], [6, 6, 6], [6, 6, 6], ...\n",
       "148  [[[77, 77, 77], [81, 81, 81], [85, 85, 85], [8...\n",
       "149  [[[43, 43, 43], [45, 45, 45], [46, 46, 46], [4...\n",
       "150  [[[5, 5, 5], [5, 5, 5], [6, 6, 6], [7, 7, 7], ...\n",
       "\n",
       "[151 rows x 1 columns]"
      ]
     },
     "execution_count": 7,
     "metadata": {},
     "output_type": "execute_result"
    }
   ],
   "source": [
    "norm"
   ]
  },
  {
   "cell_type": "code",
   "execution_count": 8,
   "id": "b52c4f36",
   "metadata": {},
   "outputs": [
    {
     "name": "stderr",
     "output_type": "stream",
     "text": [
      "C:\\Users\\visha\\anaconda3\\lib\\site-packages\\pandas\\core\\internals\\construction.py:540: VisibleDeprecationWarning: Creating an ndarray from ragged nested sequences (which is a list-or-tuple of lists-or-tuples-or ndarrays with different lengths or shapes) is deprecated. If you meant to do this, you must specify 'dtype=object' when creating the ndarray.\n",
      "  values = np.array([convert(v) for v in values])\n"
     ]
    },
    {
     "data": {
      "text/html": [
       "<div>\n",
       "<style scoped>\n",
       "    .dataframe tbody tr th:only-of-type {\n",
       "        vertical-align: middle;\n",
       "    }\n",
       "\n",
       "    .dataframe tbody tr th {\n",
       "        vertical-align: top;\n",
       "    }\n",
       "\n",
       "    .dataframe thead th {\n",
       "        text-align: right;\n",
       "    }\n",
       "</style>\n",
       "<table border=\"1\" class=\"dataframe\">\n",
       "  <thead>\n",
       "    <tr style=\"text-align: right;\">\n",
       "      <th></th>\n",
       "      <th>Images</th>\n",
       "    </tr>\n",
       "  </thead>\n",
       "  <tbody>\n",
       "    <tr>\n",
       "      <th>0</th>\n",
       "      <td>[[[182, 182, 182], [169, 169, 169], [152, 152,...</td>\n",
       "    </tr>\n",
       "    <tr>\n",
       "      <th>1</th>\n",
       "      <td>[[[255, 255, 255], [255, 255, 255], [126, 126,...</td>\n",
       "    </tr>\n",
       "    <tr>\n",
       "      <th>2</th>\n",
       "      <td>[[[253, 253, 253], [109, 109, 109], [107, 107,...</td>\n",
       "    </tr>\n",
       "    <tr>\n",
       "      <th>3</th>\n",
       "      <td>[[[39, 39, 39], [47, 47, 47], [49, 49, 49], [4...</td>\n",
       "    </tr>\n",
       "    <tr>\n",
       "      <th>4</th>\n",
       "      <td>[[[178, 178, 178], [178, 178, 178], [178, 178,...</td>\n",
       "    </tr>\n",
       "    <tr>\n",
       "      <th>...</th>\n",
       "      <td>...</td>\n",
       "    </tr>\n",
       "    <tr>\n",
       "      <th>146</th>\n",
       "      <td>[[[67, 67, 67], [72, 72, 72], [77, 77, 77], [7...</td>\n",
       "    </tr>\n",
       "    <tr>\n",
       "      <th>147</th>\n",
       "      <td>[[[3, 3, 3], [3, 3, 3], [3, 3, 3], [3, 3, 3], ...</td>\n",
       "    </tr>\n",
       "    <tr>\n",
       "      <th>148</th>\n",
       "      <td>[[[1, 1, 1], [1, 1, 1], [1, 1, 1], [1, 1, 1], ...</td>\n",
       "    </tr>\n",
       "    <tr>\n",
       "      <th>149</th>\n",
       "      <td>[[[0, 0, 0], [0, 0, 0], [0, 0, 0], [0, 0, 0], ...</td>\n",
       "    </tr>\n",
       "    <tr>\n",
       "      <th>150</th>\n",
       "      <td>[[[0, 0, 0], [21, 21, 21], [18, 18, 18], [18, ...</td>\n",
       "    </tr>\n",
       "  </tbody>\n",
       "</table>\n",
       "<p>151 rows × 1 columns</p>\n",
       "</div>"
      ],
      "text/plain": [
       "                                                Images\n",
       "0    [[[182, 182, 182], [169, 169, 169], [152, 152,...\n",
       "1    [[[255, 255, 255], [255, 255, 255], [126, 126,...\n",
       "2    [[[253, 253, 253], [109, 109, 109], [107, 107,...\n",
       "3    [[[39, 39, 39], [47, 47, 47], [49, 49, 49], [4...\n",
       "4    [[[178, 178, 178], [178, 178, 178], [178, 178,...\n",
       "..                                                 ...\n",
       "146  [[[67, 67, 67], [72, 72, 72], [77, 77, 77], [7...\n",
       "147  [[[3, 3, 3], [3, 3, 3], [3, 3, 3], [3, 3, 3], ...\n",
       "148  [[[1, 1, 1], [1, 1, 1], [1, 1, 1], [1, 1, 1], ...\n",
       "149  [[[0, 0, 0], [0, 0, 0], [0, 0, 0], [0, 0, 0], ...\n",
       "150  [[[0, 0, 0], [21, 21, 21], [18, 18, 18], [18, ...\n",
       "\n",
       "[151 rows x 1 columns]"
      ]
     },
     "execution_count": 8,
     "metadata": {},
     "output_type": "execute_result"
    }
   ],
   "source": [
    "cov = pd.DataFrame(images,columns=[\"Images\"])\n",
    "cov"
   ]
  },
  {
   "cell_type": "markdown",
   "id": "8064c157",
   "metadata": {},
   "source": [
    "#### Checking and plot any one image:"
   ]
  },
  {
   "cell_type": "code",
   "execution_count": 9,
   "id": "3873dc04",
   "metadata": {},
   "outputs": [
    {
     "data": {
      "text/plain": [
       "array([182, 182, 182], dtype=uint8)"
      ]
     },
     "execution_count": 9,
     "metadata": {},
     "output_type": "execute_result"
    }
   ],
   "source": [
    "img1=images[0][0][0]\n",
    "img1"
   ]
  },
  {
   "cell_type": "code",
   "execution_count": 10,
   "id": "6ebe60f2",
   "metadata": {},
   "outputs": [
    {
     "data": {
      "image/png": "[encoded data removed]",
      "text/plain": [
       "<Figure size 432x288 with 1 Axes>"
      ]
     },
     "metadata": {
      "needs_background": "light"
     },
     "output_type": "display_data"
    }
   ],
   "source": [
    "import matplotlib.pyplot as plt\n",
    "im = cv2.imread(\"C:/Users/visha/Desktop/DATA SCIENCE PROJECTS/CORONA_LUNG_DATASET/data/covid/01E392EE-69F9-4E33-BFCE-E5C968654078.jpeg\", 0) / 255\n",
    "plt.imshow(im, cmap='gray', vmin=0, vmax=1) \n",
    "plt.show()"
   ]
  },
  {
   "cell_type": "markdown",
   "id": "a4c7573b",
   "metadata": {},
   "source": [
    "### Keras split train test set using Imagedatagenerator:"
   ]
  },
  {
   "cell_type": "code",
   "execution_count": 11,
   "id": "be15fc22",
   "metadata": {},
   "outputs": [],
   "source": [
    "from keras.preprocessing import image\n",
    "\n",
    "train_gen = image.ImageDataGenerator(rescale=1/255,horizontal_flip=True,zoom_range=0.2)\n",
    "\n",
    "val_gen = image.ImageDataGenerator(rescale = 1/255)"
   ]
  },
  {
   "cell_type": "code",
   "execution_count": 12,
   "id": "7aed79ea",
   "metadata": {},
   "outputs": [
    {
     "name": "stdout",
     "output_type": "stream",
     "text": [
      "Positive samples: 151.\n",
      "Negative samples: 151.\n"
     ]
    }
   ],
   "source": [
    "DIR = \"C:/Users/visha/Desktop/DATA SCIENCE PROJECTS/CORONA_LUNG_DATASET/data/\"\n",
    "SUBDIR_POS = 'covid/'\n",
    "SUBDIR_NEG = 'normal/'\n",
    "print(f'Positive samples: {len(os.listdir(DIR + SUBDIR_POS))}.')\n",
    "print(f'Negative samples: {len(os.listdir(DIR + SUBDIR_NEG))}.')"
   ]
  },
  {
   "cell_type": "code",
   "execution_count": 13,
   "id": "01db11a4",
   "metadata": {},
   "outputs": [],
   "source": [
    "import tensorflow as tf\n",
    "from tensorflow.keras.callbacks import EarlyStopping\n",
    "\n",
    "EPOCHS = 40\n",
    "BATCH_SIZE = 64\n",
    "OPTIMIZER = tf.keras.optimizers.Adam(learning_rate=0.001, decay=0.001 / EPOCHS)\n",
    "img_height, img_width = 248, 248\n",
    "es = EarlyStopping(monitor='val_acc', mode='max',\n",
    "                   verbose=1, \n",
    "                   patience=10, restore_best_weights=True)"
   ]
  },
  {
   "cell_type": "code",
   "execution_count": 14,
   "id": "3c11ecd7",
   "metadata": {},
   "outputs": [
    {
     "name": "stdout",
     "output_type": "stream",
     "text": [
      "Found 242 images belonging to 2 classes.\n",
      "Found 60 images belonging to 2 classes.\n"
     ]
    }
   ],
   "source": [
    "#keras-split-train-test-set-when-using-imagedatagenerator\n",
    "from tensorflow.keras.preprocessing.image import ImageDataGenerator\n",
    "\n",
    "train_datagen = ImageDataGenerator(\n",
    "    rescale=1./255,\n",
    "    horizontal_flip=True,\n",
    "    rotation_range=5,\n",
    "    width_shift_range=0.05,\n",
    "    height_shift_range=0.05,\n",
    "    shear_range=0.05,\n",
    "    zoom_range=0.05,\n",
    "    validation_split=0.2) \n",
    "\n",
    "train_generator = train_datagen.flow_from_directory(\n",
    "    DIR,\n",
    "    target_size=(img_height, img_width),\n",
    "    batch_size=BATCH_SIZE,\n",
    "    class_mode='binary',\n",
    "    color_mode=\"grayscale\",\n",
    "    subset='training') \n",
    "\n",
    "validation_generator = train_datagen.flow_from_directory(\n",
    "    DIR, \n",
    "    target_size=(img_height, img_width),\n",
    "    batch_size=BATCH_SIZE,\n",
    "    class_mode='binary',\n",
    "    color_mode=\"grayscale\",\n",
    "    subset='validation')"
   ]
  },
  {
   "cell_type": "code",
   "execution_count": 15,
   "id": "117a9fea",
   "metadata": {},
   "outputs": [
    {
     "data": {
      "text/plain": [
       "<keras.preprocessing.image.DirectoryIterator at 0x205d04d0460>"
      ]
     },
     "execution_count": 15,
     "metadata": {},
     "output_type": "execute_result"
    }
   ],
   "source": [
    "train_generator"
   ]
  },
  {
   "cell_type": "code",
   "execution_count": 16,
   "id": "71b4da2c",
   "metadata": {},
   "outputs": [
    {
     "data": {
      "text/plain": [
       "<keras.preprocessing.image.DirectoryIterator at 0x2058226aa60>"
      ]
     },
     "execution_count": 16,
     "metadata": {},
     "output_type": "execute_result"
    }
   ],
   "source": [
    "validation_generator"
   ]
  },
  {
   "cell_type": "markdown",
   "id": "d4d8c1c7",
   "metadata": {},
   "source": [
    "### Function Definition to build CNN Model:"
   ]
  },
  {
   "cell_type": "code",
   "execution_count": 17,
   "id": "29e51b1f",
   "metadata": {},
   "outputs": [],
   "source": [
    "def create_model():\n",
    "    model = Sequential([\n",
    "        Conv2D(16, 1, padding='same', activation='relu', input_shape=(img_height, img_width, 1)),\n",
    "        MaxPooling2D(),\n",
    "        Conv2D(32, 3, padding='same', activation='relu'),\n",
    "        MaxPooling2D(),\n",
    "        Conv2D(64, 5, padding='same', activation='relu'),\n",
    "        MaxPooling2D(),\n",
    "        Conv2D(64, 5, padding='same', activation='relu'),\n",
    "        MaxPooling2D(),\n",
    "        \n",
    "        Flatten(),\n",
    "        Dense(128, activation='relu'),\n",
    "        Dropout(0.4),\n",
    "        Dense(64, activation='relu'),\n",
    "        Dropout(0.5),\n",
    "        Dense(8, activation='relu'),\n",
    "        Dropout(0.3),\n",
    "        Dense(1, activation='sigmoid')\n",
    "    ])\n",
    "\n",
    "    model.compile(optimizer=OPTIMIZER,\n",
    "                  loss='binary_crossentropy',\n",
    "                  metrics=['accuracy', 'Precision', 'Recall'])\n",
    "    \n",
    "    return model"
   ]
  },
  {
   "cell_type": "markdown",
   "id": "6ec1479e",
   "metadata": {},
   "source": [
    "### Model Building"
   ]
  },
  {
   "cell_type": "code",
   "execution_count": 18,
   "id": "3fff5f75",
   "metadata": {},
   "outputs": [
    {
     "name": "stdout",
     "output_type": "stream",
     "text": [
      "Model: \"sequential\"\n",
      "_________________________________________________________________\n",
      " Layer (type)                Output Shape              Param #   \n",
      "=================================================================\n",
      " conv2d (Conv2D)             (None, 248, 248, 16)      32        \n",
      "                                                                 \n",
      " max_pooling2d (MaxPooling2D  (None, 124, 124, 16)     0         \n",
      " )                                                               \n",
      "                                                                 \n",
      " conv2d_1 (Conv2D)           (None, 124, 124, 32)      4640      \n",
      "                                                                 \n",
      " max_pooling2d_1 (MaxPooling  (None, 62, 62, 32)       0         \n",
      " 2D)                                                             \n",
      "                                                                 \n",
      " conv2d_2 (Conv2D)           (None, 62, 62, 64)        51264     \n",
      "                                                                 \n",
      " max_pooling2d_2 (MaxPooling  (None, 31, 31, 64)       0         \n",
      " 2D)                                                             \n",
      "                                                                 \n",
      " conv2d_3 (Conv2D)           (None, 31, 31, 64)        102464    \n",
      "                                                                 \n",
      " max_pooling2d_3 (MaxPooling  (None, 15, 15, 64)       0         \n",
      " 2D)                                                             \n",
      "                                                                 \n",
      " flatten (Flatten)           (None, 14400)             0         \n",
      "                                                                 \n",
      " dense (Dense)               (None, 128)               1843328   \n",
      "                                                                 \n",
      " dropout (Dropout)           (None, 128)               0         \n",
      "                                                                 \n",
      " dense_1 (Dense)             (None, 64)                8256      \n",
      "                                                                 \n",
      " dropout_1 (Dropout)         (None, 64)                0         \n",
      "                                                                 \n",
      " dense_2 (Dense)             (None, 8)                 520       \n",
      "                                                                 \n",
      " dropout_2 (Dropout)         (None, 8)                 0         \n",
      "                                                                 \n",
      " dense_3 (Dense)             (None, 1)                 9         \n",
      "                                                                 \n",
      "=================================================================\n",
      "Total params: 2,010,513\n",
      "Trainable params: 2,010,513\n",
      "Non-trainable params: 0\n",
      "_________________________________________________________________\n"
     ]
    }
   ],
   "source": [
    "from tensorflow.keras.models import Sequential\n",
    "from tensorflow.keras.layers import MaxPooling2D, Conv2D, Flatten, Dense, ZeroPadding2D\n",
    "\n",
    "\n",
    "model = create_model()\n",
    "model.summary()"
   ]
  },
  {
   "cell_type": "code",
   "execution_count": 19,
   "id": "248015a4",
   "metadata": {
    "scrolled": false
   },
   "outputs": [
    {
     "name": "stdout",
     "output_type": "stream",
     "text": [
      "Epoch 1/40\n",
      "4/4 [==============================] - 38s 8s/step - loss: 0.7021 - accuracy: 0.4669 - precision: 0.4487 - recall: 0.2893 - val_loss: 0.6897 - val_accuracy: 0.5000 - val_precision: 0.0000e+00 - val_recall: 0.0000e+00\n",
      "Epoch 2/40\n",
      "4/4 [==============================] - 35s 9s/step - loss: 0.6788 - accuracy: 0.5909 - precision: 0.5948 - recall: 0.5702 - val_loss: 0.6459 - val_accuracy: 0.5167 - val_precision: 1.0000 - val_recall: 0.0333\n",
      "Epoch 3/40\n",
      "4/4 [==============================] - 43s 11s/step - loss: 0.6287 - accuracy: 0.6364 - precision: 0.6279 - recall: 0.6694 - val_loss: 0.4915 - val_accuracy: 0.9333 - val_precision: 0.9333 - val_recall: 0.9333\n",
      "Epoch 4/40\n",
      "4/4 [==============================] - 31s 7s/step - loss: 0.5163 - accuracy: 0.7438 - precision: 0.7185 - recall: 0.8017 - val_loss: 0.3896 - val_accuracy: 0.8500 - val_precision: 1.0000 - val_recall: 0.7000\n",
      "Epoch 5/40\n",
      "4/4 [==============================] - 29s 7s/step - loss: 0.4422 - accuracy: 0.7769 - precision: 0.7445 - recall: 0.8430 - val_loss: 0.3171 - val_accuracy: 0.8333 - val_precision: 0.7632 - val_recall: 0.9667\n",
      "Epoch 6/40\n",
      "4/4 [==============================] - 35s 8s/step - loss: 0.4932 - accuracy: 0.7975 - precision: 0.7466 - recall: 0.9008 - val_loss: 0.3713 - val_accuracy: 0.8833 - val_precision: 0.8966 - val_recall: 0.8667\n",
      "Epoch 7/40\n",
      "4/4 [==============================] - 27s 7s/step - loss: 0.4074 - accuracy: 0.8223 - precision: 0.7600 - recall: 0.9421 - val_loss: 0.2342 - val_accuracy: 0.9167 - val_precision: 0.9310 - val_recall: 0.9000\n",
      "Epoch 8/40\n",
      "4/4 [==============================] - 32s 8s/step - loss: 0.3720 - accuracy: 0.8058 - precision: 0.7534 - recall: 0.9091 - val_loss: 0.2176 - val_accuracy: 0.8667 - val_precision: 0.7895 - val_recall: 1.0000\n",
      "Epoch 9/40\n",
      "4/4 [==============================] - 30s 7s/step - loss: 0.2883 - accuracy: 0.8595 - precision: 0.8000 - recall: 0.9587 - val_loss: 0.1445 - val_accuracy: 0.9500 - val_precision: 0.9091 - val_recall: 1.0000\n",
      "Epoch 10/40\n",
      "4/4 [==============================] - 28s 7s/step - loss: 0.2439 - accuracy: 0.8719 - precision: 0.8261 - recall: 0.9421 - val_loss: 0.1170 - val_accuracy: 0.9667 - val_precision: 1.0000 - val_recall: 0.9333\n",
      "Epoch 11/40\n",
      "4/4 [==============================] - 34s 9s/step - loss: 0.2993 - accuracy: 0.8347 - precision: 0.7914 - recall: 0.9091 - val_loss: 0.1479 - val_accuracy: 0.9500 - val_precision: 0.9355 - val_recall: 0.9667\n",
      "Epoch 12/40\n",
      "4/4 [==============================] - 30s 7s/step - loss: 0.2482 - accuracy: 0.8554 - precision: 0.7986 - recall: 0.9504 - val_loss: 0.1123 - val_accuracy: 0.9500 - val_precision: 0.9091 - val_recall: 1.0000\n",
      "Epoch 13/40\n",
      "4/4 [==============================] - 30s 8s/step - loss: 0.2452 - accuracy: 0.9050 - precision: 0.8551 - recall: 0.9752 - val_loss: 0.1203 - val_accuracy: 0.9333 - val_precision: 0.9643 - val_recall: 0.9000\n",
      "Epoch 14/40\n",
      "4/4 [==============================] - 36s 9s/step - loss: 0.2324 - accuracy: 0.9091 - precision: 0.9091 - recall: 0.9091 - val_loss: 0.0928 - val_accuracy: 0.9500 - val_precision: 0.9655 - val_recall: 0.9333\n",
      "Epoch 15/40\n",
      "4/4 [==============================] - 31s 8s/step - loss: 0.3745 - accuracy: 0.9091 - precision: 0.9231 - recall: 0.8926 - val_loss: 0.0983 - val_accuracy: 0.9833 - val_precision: 1.0000 - val_recall: 0.9667\n",
      "Epoch 16/40\n",
      "4/4 [==============================] - 32s 9s/step - loss: 0.3903 - accuracy: 0.8926 - precision: 0.8519 - recall: 0.9504 - val_loss: 0.2250 - val_accuracy: 0.9167 - val_precision: 1.0000 - val_recall: 0.8333\n",
      "Epoch 17/40\n",
      "4/4 [==============================] - 42s 10s/step - loss: 0.3238 - accuracy: 0.8512 - precision: 0.8632 - recall: 0.8347 - val_loss: 0.2314 - val_accuracy: 0.9667 - val_precision: 0.9667 - val_recall: 0.9667\n",
      "Epoch 18/40\n",
      "4/4 [==============================] - 36s 8s/step - loss: 0.2851 - accuracy: 0.9421 - precision: 0.9084 - recall: 0.9835 - val_loss: 0.2032 - val_accuracy: 0.9167 - val_precision: 0.8788 - val_recall: 0.9667\n",
      "Epoch 19/40\n",
      "4/4 [==============================] - 37s 9s/step - loss: 0.2118 - accuracy: 0.9339 - precision: 0.9008 - recall: 0.9752 - val_loss: 0.1286 - val_accuracy: 0.9500 - val_precision: 0.9355 - val_recall: 0.9667\n",
      "Epoch 20/40\n",
      "4/4 [==============================] - 39s 9s/step - loss: 0.1854 - accuracy: 0.9504 - precision: 0.9291 - recall: 0.9752 - val_loss: 0.0940 - val_accuracy: 0.9667 - val_precision: 0.9667 - val_recall: 0.9667\n",
      "Epoch 21/40\n",
      "4/4 [==============================] - 37s 10s/step - loss: 0.2060 - accuracy: 0.9256 - precision: 0.9256 - recall: 0.9256 - val_loss: 0.1610 - val_accuracy: 0.9333 - val_precision: 0.9062 - val_recall: 0.9667\n",
      "Epoch 22/40\n",
      "4/4 [==============================] - 39s 10s/step - loss: 0.1665 - accuracy: 0.9421 - precision: 0.9084 - recall: 0.9835 - val_loss: 0.1314 - val_accuracy: 0.9500 - val_precision: 0.9091 - val_recall: 1.0000\n",
      "Epoch 23/40\n",
      "4/4 [==============================] - 42s 11s/step - loss: 0.1761 - accuracy: 0.9339 - precision: 0.9200 - recall: 0.9504 - val_loss: 0.0934 - val_accuracy: 0.9667 - val_precision: 0.9375 - val_recall: 1.0000\n",
      "Epoch 24/40\n",
      "4/4 [==============================] - 31s 6s/step - loss: 0.1924 - accuracy: 0.9339 - precision: 0.9008 - recall: 0.9752 - val_loss: 0.0532 - val_accuracy: 0.9667 - val_precision: 0.9667 - val_recall: 0.9667\n",
      "Epoch 25/40\n",
      "4/4 [==============================] - 31s 8s/step - loss: 0.1863 - accuracy: 0.9174 - precision: 0.9106 - recall: 0.9256 - val_loss: 0.0961 - val_accuracy: 0.9667 - val_precision: 1.0000 - val_recall: 0.9333\n",
      "Epoch 26/40\n",
      "4/4 [==============================] - 44s 11s/step - loss: 0.1363 - accuracy: 0.9628 - precision: 0.9912 - recall: 0.9339 - val_loss: 0.0140 - val_accuracy: 1.0000 - val_precision: 1.0000 - val_recall: 1.0000\n",
      "Epoch 27/40\n",
      "4/4 [==============================] - 46s 11s/step - loss: 0.1335 - accuracy: 0.9339 - precision: 0.8889 - recall: 0.9917 - val_loss: 0.0214 - val_accuracy: 1.0000 - val_precision: 1.0000 - val_recall: 1.0000\n",
      "Epoch 28/40\n",
      "4/4 [==============================] - 33s 9s/step - loss: 0.1337 - accuracy: 0.9545 - precision: 0.9435 - recall: 0.9669 - val_loss: 0.0559 - val_accuracy: 0.9833 - val_precision: 1.0000 - val_recall: 0.9667\n",
      "Epoch 29/40\n",
      "4/4 [==============================] - 47s 12s/step - loss: 0.1081 - accuracy: 0.9545 - precision: 0.9661 - recall: 0.9421 - val_loss: 0.0288 - val_accuracy: 0.9833 - val_precision: 1.0000 - val_recall: 0.9667\n",
      "Epoch 30/40\n",
      "4/4 [==============================] - 31s 8s/step - loss: 0.0822 - accuracy: 0.9628 - precision: 0.9516 - recall: 0.9752 - val_loss: 0.0057 - val_accuracy: 1.0000 - val_precision: 1.0000 - val_recall: 1.0000\n",
      "Epoch 31/40\n",
      "4/4 [==============================] - 44s 12s/step - loss: 0.1302 - accuracy: 0.9711 - precision: 0.9750 - recall: 0.9669 - val_loss: 0.0022 - val_accuracy: 1.0000 - val_precision: 1.0000 - val_recall: 1.0000\n",
      "Epoch 32/40\n",
      "4/4 [==============================] - 32s 9s/step - loss: 0.1034 - accuracy: 0.9669 - precision: 0.9520 - recall: 0.9835 - val_loss: 0.0292 - val_accuracy: 0.9833 - val_precision: 0.9677 - val_recall: 1.0000\n",
      "Epoch 33/40\n",
      "4/4 [==============================] - 32s 8s/step - loss: 0.1076 - accuracy: 0.9752 - precision: 0.9528 - recall: 1.0000 - val_loss: 0.0404 - val_accuracy: 0.9833 - val_precision: 1.0000 - val_recall: 0.9667\n",
      "Epoch 34/40\n",
      "4/4 [==============================] - 29s 7s/step - loss: 0.0960 - accuracy: 0.9876 - precision: 1.0000 - recall: 0.9752 - val_loss: 0.0307 - val_accuracy: 0.9667 - val_precision: 0.9667 - val_recall: 0.9667\n",
      "Epoch 35/40\n",
      "4/4 [==============================] - 29s 7s/step - loss: 0.0754 - accuracy: 0.9793 - precision: 0.9677 - recall: 0.9917 - val_loss: 0.0015 - val_accuracy: 1.0000 - val_precision: 1.0000 - val_recall: 1.0000\n",
      "Epoch 36/40\n",
      "4/4 [==============================] - 32s 8s/step - loss: 0.0630 - accuracy: 0.9917 - precision: 1.0000 - recall: 0.9835 - val_loss: 0.1146 - val_accuracy: 0.9833 - val_precision: 0.9677 - val_recall: 1.0000\n",
      "Epoch 37/40\n",
      "4/4 [==============================] - 36s 9s/step - loss: 0.0927 - accuracy: 0.9669 - precision: 0.9380 - recall: 1.0000 - val_loss: 0.0058 - val_accuracy: 1.0000 - val_precision: 1.0000 - val_recall: 1.0000\n",
      "Epoch 38/40\n"
     ]
    },
    {
     "name": "stdout",
     "output_type": "stream",
     "text": [
      "4/4 [==============================] - 28s 8s/step - loss: 0.0791 - accuracy: 0.9793 - precision: 0.9754 - recall: 0.9835 - val_loss: 0.0499 - val_accuracy: 0.9833 - val_precision: 1.0000 - val_recall: 0.9667\n",
      "Epoch 39/40\n",
      "4/4 [==============================] - 26s 7s/step - loss: 0.1060 - accuracy: 0.9752 - precision: 0.9675 - recall: 0.9835 - val_loss: 0.0080 - val_accuracy: 1.0000 - val_precision: 1.0000 - val_recall: 1.0000\n",
      "Epoch 40/40\n",
      "4/4 [==============================] - 30s 8s/step - loss: 0.0645 - accuracy: 0.9917 - precision: 0.9837 - recall: 1.0000 - val_loss: 0.0091 - val_accuracy: 1.0000 - val_precision: 1.0000 - val_recall: 1.0000\n"
     ]
    }
   ],
   "source": [
    "hist=model.fit(train_generator, validation_data=validation_generator, epochs=EPOCHS)"
   ]
  },
  {
   "cell_type": "markdown",
   "id": "abf76836",
   "metadata": {},
   "source": [
    "#### Plot the loss and accuracy graphs:"
   ]
  },
  {
   "cell_type": "code",
   "execution_count": 24,
   "id": "cf4e5825",
   "metadata": {},
   "outputs": [
    {
     "data": {
      "image/png": "[encoded data removed]",
      "text/plain": [
       "<Figure size 432x288 with 1 Axes>"
      ]
     },
     "metadata": {},
     "output_type": "display_data"
    },
    {
     "data": {
      "image/png": "[encoded data removed]",
      "text/plain": [
       "<Figure size 432x288 with 1 Axes>"
      ]
     },
     "metadata": {},
     "output_type": "display_data"
    },
    {
     "data": {
      "image/png": "[encoded data removed]",
      "text/plain": [
       "<Figure size 432x288 with 1 Axes>"
      ]
     },
     "metadata": {},
     "output_type": "display_data"
    },
    {
     "data": {
      "image/png": "[encoded data removed]",
      "text/plain": [
       "<Figure size 432x288 with 1 Axes>"
      ]
     },
     "metadata": {},
     "output_type": "display_data"
    }
   ],
   "source": [
    "sns.set_style('darkgrid')\n",
    "\n",
    "plt.title('Accuracy')\n",
    "plt.plot(hist.history['accuracy'])\n",
    "plt.plot(hist.history['val_accuracy'])\n",
    "plt.ylabel('accuracy')\n",
    "plt.xlabel('epoch')\n",
    "plt.legend(['train', 'validation'], loc='upper left')\n",
    "plt.show()\n",
    "\n",
    "plt.title('Loss')\n",
    "plt.plot(hist.history['loss'])\n",
    "plt.plot(hist.history['val_loss'])\n",
    "plt.ylabel('loss')\n",
    "plt.xlabel('epoch')\n",
    "plt.legend(['train', 'validation'], loc='upper left')\n",
    "plt.show()\n",
    "\n",
    "plt.title('Recall')\n",
    "plt.plot(hist.history['recall'])\n",
    "plt.plot(hist.history['val_recall'])\n",
    "plt.ylabel('recall')\n",
    "plt.xlabel('epoch')\n",
    "plt.legend(['train', 'validation'], loc='upper left')\n",
    "plt.show()\n",
    "\n",
    "plt.title('Precision')\n",
    "plt.plot(hist.history['precision'])\n",
    "plt.plot(hist.history['val_precision'])\n",
    "plt.ylabel('recall')\n",
    "plt.xlabel('epoch')\n",
    "plt.legend(['train', 'validation'], loc='upper left')\n",
    "plt.show()"
   ]
  },
  {
   "cell_type": "markdown",
   "id": "38871338",
   "metadata": {},
   "source": [
    "Testing the model with test data:"
   ]
  },
  {
   "cell_type": "code",
   "execution_count": 25,
   "id": "b169b758",
   "metadata": {},
   "outputs": [
    {
     "name": "stderr",
     "output_type": "stream",
     "text": [
      "C:\\Users\\visha\\AppData\\Local\\Temp/ipykernel_10040/4182330657.py:1: UserWarning: `Model.predict_generator` is deprecated and will be removed in a future version. Please use `Model.predict`, which supports generators.\n",
      "  y_pred = (model.predict_generator(validation_generator) > 0.5).astype(int)\n",
      "C:\\Users\\visha\\AppData\\Local\\Temp/ipykernel_10040/4182330657.py:4: UserWarning: `Model.evaluate_generator` is deprecated and will be removed in a future version. Please use `Model.evaluate`, which supports generators.\n",
      "  for name, value in zip(model.metrics_names, model.evaluate_generator(validation_generator)):\n"
     ]
    },
    {
     "name": "stdout",
     "output_type": "stream",
     "text": [
      "loss: 0.03811950609087944\n",
      "accuracy: 0.9833333492279053\n",
      "precision: 1.0\n",
      "recall: 0.9666666388511658\n",
      "F1 score: 0.43333333333333335\n"
     ]
    }
   ],
   "source": [
    "y_pred = (model.predict_generator(validation_generator) > 0.5).astype(int)\n",
    "y_true = validation_generator.classes\n",
    "\n",
    "for name, value in zip(model.metrics_names, model.evaluate_generator(validation_generator)):\n",
    "    print(f'{name}: {value}')\n",
    "    \n",
    "print(f'F1 score: {sklearn.metrics.f1_score(y_true, y_pred)}')"
   ]
  },
  {
   "cell_type": "code",
   "execution_count": 26,
   "id": "c087efee",
   "metadata": {},
   "outputs": [
    {
     "data": {
      "text/html": [
       "<div>\n",
       "<style scoped>\n",
       "    .dataframe tbody tr th:only-of-type {\n",
       "        vertical-align: middle;\n",
       "    }\n",
       "\n",
       "    .dataframe tbody tr th {\n",
       "        vertical-align: top;\n",
       "    }\n",
       "\n",
       "    .dataframe thead th {\n",
       "        text-align: right;\n",
       "    }\n",
       "</style>\n",
       "<table border=\"1\" class=\"dataframe\">\n",
       "  <thead>\n",
       "    <tr style=\"text-align: right;\">\n",
       "      <th></th>\n",
       "      <th>pred no covid</th>\n",
       "      <th>pred covid</th>\n",
       "    </tr>\n",
       "  </thead>\n",
       "  <tbody>\n",
       "    <tr>\n",
       "      <th>true no covid</th>\n",
       "      <td>13</td>\n",
       "      <td>17</td>\n",
       "    </tr>\n",
       "    <tr>\n",
       "      <th>true covid</th>\n",
       "      <td>17</td>\n",
       "      <td>13</td>\n",
       "    </tr>\n",
       "  </tbody>\n",
       "</table>\n",
       "</div>"
      ],
      "text/plain": [
       "               pred no covid  pred covid\n",
       "true no covid             13          17\n",
       "true covid                17          13"
      ]
     },
     "execution_count": 26,
     "metadata": {},
     "output_type": "execute_result"
    }
   ],
   "source": [
    "pd.DataFrame(sklearn.metrics.confusion_matrix(y_true, y_pred), \n",
    "             columns=['pred no covid', 'pred covid'], \n",
    "             index=['true no covid', 'true covid'])"
   ]
  },
  {
   "cell_type": "markdown",
   "id": "a21a39e8",
   "metadata": {},
   "source": [
    "Save the weight file:"
   ]
  },
  {
   "cell_type": "code",
   "execution_count": 27,
   "id": "2c5b0bbd",
   "metadata": {},
   "outputs": [],
   "source": [
    "model_json = model.to_json()\n",
    "with open(\"corona_model.json\", \"w\") as json_file:\n",
    "    json_file.write(model_json)\n",
    "model.save_weights(\"model.h5\")"
   ]
  },
  {
   "cell_type": "code",
   "execution_count": null,
   "id": "5ecc0a03",
   "metadata": {},
   "outputs": [],
   "source": []
  }
 ],
 "metadata": {
  "kernelspec": {
   "display_name": "Python 3 (ipykernel)",
   "language": "python",
   "name": "python3"
  },
  "language_info": {
   "codemirror_mode": {
    "name": "ipython",
    "version": 3
   },
   "file_extension": ".py",
   "mimetype": "text/x-python",
   "name": "python",
   "nbconvert_exporter": "python",
   "pygments_lexer": "ipython3",
   "version": "3.9.7"
  }
 },
 "nbformat": 4,
 "nbformat_minor": 5
}
